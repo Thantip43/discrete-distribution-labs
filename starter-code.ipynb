{
 "cells": [
  {
   "cell_type": "markdown",
   "metadata": {},
   "source": [
    "# \"Fun with Loot Boxes\" Lab\n",
    "\n",
    "> Author: Caroline Schmitt, Matt Brems\n",
    "\n",
    "### Scenario:\n",
    "\n",
    "You're an analyst for [Zynga](https://en.wikipedia.org/wiki/Zynga), a gaming studio working on an event for an MMO (massively multiplayer online) game. This event is going to include **loot boxes**.\n",
    "\n",
    "<img src=\"https://vignette.wikia.nocookie.net/2007scape/images/0/06/Culinaromancer%27s_chest.png/revision/latest?cb=20180403231423\" alt=\"drawing\" width=\"150\"/> \n",
    "\n",
    "A loot box is basically a treasure chest in a game. This loot box can be opened to reveal a variety of items: some items are very rare and valuable, other items are common and less valuable. (You may consult [the esteemed Wikipedia](https://en.wikipedia.org/wiki/Loot_box) for a more extensive definition.)\n",
    "\n",
    "In our specific game, suppose that loot boxes can be obtained in one of two ways: \n",
    "- After every three hours of playing the game, a user will earn one loot box.\n",
    "- If the user wishes to purchase a loot box, they may pay $1 (in real money!) for a loot box.\n",
    "\n",
    "These loot boxes are very good for our business!\n",
    "- If a player earns a loot box, it means they are spending lots of time on the game. This often leads to advertisement revenue, they may tell their friends to join the game, etc.\n",
    "- If the player purchases a loot box, it means we've earned $1 from our customer.\n",
    "\n",
    "Suppose each loot box is opened to reveal either:\n",
    "- magical elixir (super rare, very valuable), or\n",
    "- nothing.\n",
    "\n",
    "Whether each loot box contains the elixir or nothing is **random**. Our boss wants some guidance on what sort of randomness to use on these loot boxes! \n",
    "- If the magical elixir is too rare, then users may not be motivated to try to get them, because they believe they'll never find the magical elixir.\n",
    "- If the magical elixir is too common, then users may not be motivated to try to get them, because the game has so much of the magical elixir that it isn't worthwhile to try to get it.\n",
    "\n",
    "However, our boss isn't a math-y type person! When explaining things to our boss, we need to explain the impact of our choices on the game as concretely as possible.\n",
    "\n",
    "### Version 1\n",
    "In our first version of the game, we'll say that loot boxes contain magical elixir 15% of the time and nothing 85% of the time.\n",
    "\n",
    "#### 1. Our boss asks, \"If a user buys 100 loot boxes, how many elixirs will they get?\" How would you respond?\n",
    "\n",
    "Answer: we cannot ganrantee how many elixir one person will get, but its possible, though, unlikely that a player who is very lucky that they will get 100 elixir and who is not lucky will get none. The expected value is 15 BUT does not anyway means every player will get 15 out of 100 loot boxes."
   ]
  },
  {
   "cell_type": "code",
   "execution_count": 5,
   "metadata": {},
   "outputs": [
    {
     "name": "stdout",
     "output_type": "stream",
     "text": [
      "Expected number of elixir from 100 loot boxes: 15.0\n"
     ]
    }
   ],
   "source": [
    "# Expected Value (EV) is the avg outcome of an events taht repeated many times, typically calculated multiplying each possible outcome by its porobability ans summing these products together \n",
    "\n",
    "   # EV helps us predic tlongterm resutl in situation involving chance\n",
    "\n",
    "def calculate_elixir_ev(elixir_probability, num_boxes):\n",
    "    return elixir_probability* num_boxes\n",
    "\n",
    "# game parameter:\n",
    "elixir_prob = 0.15\n",
    "nothing_prob = 0.85\n",
    "num_loot_box = 100\n",
    "\n",
    "expected_elixir = calculate_elixir_ev(elixir_prob, num_loot_box)\n",
    "print(f'Expected number of elixir from {num_loot_box} loot boxes: {expected_elixir}')"
   ]
  },
  {
   "cell_type": "code",
   "execution_count": null,
   "metadata": {},
   "outputs": [],
   "source": [
    "# Ev and prob diff in that:\n",
    "\n",
    "# prob measures the likelihood of a specific outcome occuring, expressed as a number \n",
    "# between 0 -1 or as %\n",
    "\n",
    "# EV quantify teh avg result over many trails, often expressed"
   ]
  },
  {
   "cell_type": "markdown",
   "metadata": {},
   "source": [
    "#### 2. Our boss asks, \"How many loot boxes does someone have to purchase in order to definitely get elixir?\" How would you respond?"
   ]
  },
  {
   "cell_type": "code",
   "execution_count": 10,
   "metadata": {},
   "outputs": [],
   "source": [
    "# answer : someone could theoratically purchase an infinate of loot boxes and never get an elixir \n",
    "# we cannot ganrantee how may loot boxes one would need to purchase until they finf an elixir \n",
    "\n",
    "# BUT, if each box has a 15% chance of obtaining an elixir, regradless of previous loot boxes opening (each is independent from each other)\n",
    "# on avg user will need to open about 7 loot boxes to get elxir. BUT again, this si just an avg, some users will need fewer boxes, adn some wi\n",
    "# need more. The actual no. of any given user can vary widly due to the RANDOM nature of the process."
   ]
  },
  {
   "cell_type": "markdown",
   "metadata": {},
   "source": [
    "#### 3. Our boss asks, \"If a user earns 100 loot boxes, what is the chance that a user gets more than 20 elixirs?\" This is a bit more complicated, so let's break it down before answering."
   ]
  },
  {
   "cell_type": "markdown",
   "metadata": {},
   "source": [
    "#### 3a. Let's suppose my random variable $X$ counts up how many elixirs I observe out of my 100 loot boxes. Why is $X$ a discrete random variable?"
   ]
  },
  {
   "cell_type": "markdown",
   "metadata": {},
   "source": [
    "Becuase X is countable, there is no 1.2, 1.5 boxes (box can not be fraction)"
   ]
  },
  {
   "cell_type": "markdown",
   "metadata": {},
   "source": [
    "#### 3b. Recall our discrete distributions: discrete uniform, Bernoulli, binomial, Poisson. Let's suppose my random variable $X$ counts up how many elixirs I observe out of my 100 loot boxes. What distribution is best suited for $X$? Why?\n",
    "- Hint: It may help to consider getting the magical elixir a \"success\" and getting nothing a \"failure.\" "
   ]
  },
  {
   "cell_type": "markdown",
   "metadata": {},
   "source": [
    "- Two outcomes : elixir (sucess) or no elixir (failure)\n",
    "\n",
    "Types ...\n",
    "- Bernoulli : no. of success in one trail. but we have 100 trails here...\n",
    "- Binomial : no. of sucess in 'n' number of trails\n",
    "- Poission: binomial + time\n",
    "- Discreate uniform : eaxh outcome are equally likely\n",
    "\n",
    "Most appropriate ...\n",
    "- Binomial : no. of sucess in 'n' number of trails"
   ]
  },
  {
   "cell_type": "markdown",
   "metadata": {},
   "source": [
    "#### 3c. Our boss asks, \"If a user earns 100 loot boxes, what is the chance that a user gets more than 20 elixirs?\" Use the probability mass function to answer the boss' question."
   ]
  },
  {
   "cell_type": "code",
   "execution_count": 16,
   "metadata": {},
   "outputs": [
    {
     "name": "stdout",
     "output_type": "stream",
     "text": [
      "0.06631976581888205\n"
     ]
    }
   ],
   "source": [
    "# Show your work; leave your answer in a comment.\n",
    "\n",
    "import numpy as np\n",
    "import matplotlib.pyplot as plt\n",
    "import scipy.stats as stats\n",
    "\n",
    "# For loop - why? range of value\n",
    "\n",
    "# Probability of success\n",
    "p=0.15\n",
    "\n",
    "# Number of trials\n",
    "n=100\n",
    "\n",
    "# Distribution\n",
    "X = stats.binom(n,p)\n",
    "P = 1 # counter -set the initial P\n",
    "\n",
    "for x in range(20+1):\n",
    "    P = P-X.pmf(x)\n",
    "\n",
    "# runnign a for loop to extract the prob of getting x elixir where x is in 0,1,2...,20\n",
    "\n",
    "print(P)"
   ]
  },
  {
   "cell_type": "code",
   "execution_count": 28,
   "metadata": {},
   "outputs": [
    {
     "name": "stdout",
     "output_type": "stream",
     "text": [
      "The probability of getting more than 20 elixir from 100 boxes is 6.63%\n"
     ]
    }
   ],
   "source": [
    "# second method\n",
    "def calculate_elixir_prob():\n",
    "    return sum(stats.binom.pmf(x,n=100,p=0.15) for x in range (21, 101)) #find getting more than 20-100\n",
    "\n",
    "result = calculate_elixir_prob()\n",
    "print (f'The probability of getting more than 20 elixir from 100 boxes is {result:.2%}')"
   ]
  },
  {
   "cell_type": "markdown",
   "metadata": {},
   "source": [
    "#### 3d. Our boss asks, \"If a user earns 100 loot boxes, what is the chance that a user gets more than 20 elixirs?\" Use the cumulative distribution function to answer the boss' question."
   ]
  },
  {
   "cell_type": "code",
   "execution_count": 35,
   "metadata": {},
   "outputs": [
    {
     "name": "stdout",
     "output_type": "stream",
     "text": [
      "Probability of gettig more than 20 elixirs: 6.63%\n"
     ]
    }
   ],
   "source": [
    "# using CDF\n",
    "\n",
    "print(f'Probability of gettig more than 20 elixirs: {1-stats.binom.cdf(20,100,0.15):.2%}')"
   ]
  },
  {
   "cell_type": "markdown",
   "metadata": {},
   "source": [
    "#### 3e. Our boss asks, \"If a user earns 100 loot boxes, what is the chance that a user gets more than 20 elixirs?\" Answer your boss' question. *Remember that your boss is not a math-y person!*"
   ]
  },
  {
   "cell_type": "code",
   "execution_count": 40,
   "metadata": {},
   "outputs": [
    {
     "data": {
      "text/plain": [
       "1650.0"
      ]
     },
     "execution_count": 40,
     "metadata": {},
     "output_type": "execute_result"
    }
   ],
   "source": [
    "# if the user were to earn or buy 100 boxes, there is probability of gettig more than 20 elixirs of 6.63%\n",
    "\n",
    "# suppose there are 25,000 active users currently. if all 25,000 users earn 100 boxes then we expected \n",
    "# about 1,650 of the users to get more than 20 elixirs.\n",
    "\n",
    "25000*0.066"
   ]
  },
  {
   "cell_type": "markdown",
   "metadata": {},
   "source": [
    "#### 4. Your boss wants to know how many people purchased how many loot boxes last month. \n",
    "> For example, last month, 70% of users did not purchase any loot boxes. 10% of people purchased one loot box. 5% of people purchased two loot boxes... and so on.\n",
    "\n",
    "#### 4a. Recall our discrete distributions: discrete uniform, Bernoulli, binomial, Poisson. Let's suppose my random variable $Y$ counts up how many loot boxes each person purchased through the game last month. What distribution is best suited for $Y$? Why?"
   ]
  },
  {
   "cell_type": "markdown",
   "metadata": {},
   "source": [
    "Types ...\n",
    "- Bernoulli : no. of success in one trail. but we have 100 trails here...\n",
    "- Binomial : no. of sucess in 'n' number of trails\n",
    "- Poission: binomial + time\n",
    "- Discreate uniform : eaxh outcome are equally likely\n",
    "\n",
    "Most appropriate ...\n",
    "- Poission: binomial + time / model the number of successes we observed ina fixed amount of time, not\n",
    "a fixed amount of trails\n",
    "- Poission distribution is often use to model count data, especially when the events are relatively rare and can occur any number f times within the given interval (last month)\n",
    "- It is flexibel enough to handle the varying prob we see the data, unlike the discrete uniform or binomial distribution"
   ]
  },
  {
   "cell_type": "markdown",
   "metadata": {},
   "source": [
    "#### 4b. Suppose that, on average, your customers purchased 2.7 loot boxes last month. In order for your revenue to be at least $500,000, at least how many users would you need on your platform? (Round your answer up to the nearest thousand.) "
   ]
  },
  {
   "cell_type": "code",
   "execution_count": 68,
   "metadata": {},
   "outputs": [
    {
     "name": "stdout",
     "output_type": "stream",
     "text": [
      " Number of users needed: 185,186\n"
     ]
    }
   ],
   "source": [
    "revenue = 500000\n",
    "avg_purchase = 2.7\n",
    "result = int(revenue//avg_purchase+1)   # // floor division\n",
    "print(f' Number of users needed: {result:,}')"
   ]
  },
  {
   "cell_type": "code",
   "execution_count": 64,
   "metadata": {},
   "outputs": [
    {
     "data": {
      "text/plain": [
       "186186.0"
      ]
     },
     "execution_count": 64,
     "metadata": {},
     "output_type": "execute_result"
    }
   ],
   "source": [
    "import math \n",
    "math.ceil(revenue/avg_purchase)\n",
    "(186.186)*1000 "
   ]
  },
  {
   "cell_type": "code",
   "execution_count": 62,
   "metadata": {},
   "outputs": [
    {
     "data": {
      "text/plain": [
       "185186.0"
      ]
     },
     "execution_count": 62,
     "metadata": {},
     "output_type": "execute_result"
    }
   ],
   "source": [
    "def round_up(n, decimals=0):\n",
    "    multiplier = 10 ** decimals\n",
    "    return math.ceil(n * multiplier) / multiplier\n",
    "\n",
    "round_up(result)"
   ]
  },
  {
   "cell_type": "code",
   "execution_count": 74,
   "metadata": {},
   "outputs": [
    {
     "data": {
      "text/plain": [
       "54"
      ]
     },
     "execution_count": 74,
     "metadata": {},
     "output_type": "execute_result"
    }
   ],
   "source": [
    "int(54.65)"
   ]
  },
  {
   "cell_type": "code",
   "execution_count": 80,
   "metadata": {},
   "outputs": [
    {
     "data": {
      "text/plain": [
       "186000"
      ]
     },
     "execution_count": 80,
     "metadata": {},
     "output_type": "execute_result"
    }
   ],
   "source": [
    "# rounding to 186,000\n",
    "\n",
    "#to the nearest 1000\n",
    "def rounding_up(number, nearest_number):\n",
    "    seperate = number/ nearest_number #(185.186)\n",
    "    add = seperate + 1 #(186.186)\n",
    "    remove_decimal = int(add) #(186.0) ..\n",
    "    mul_back = remove_decimal * nearest_number #(186.0)*1000 \n",
    "    return mul_back\n",
    "\n",
    "rounding_up(result, 1000)\n"
   ]
  },
  {
   "cell_type": "markdown",
   "metadata": {},
   "source": [
    "#### 4c. Assume that your platform has the numer of users you mentioned in your last answer. Suppose that your platform calls anyone who purchases 5 or more loot boxes in a month a \"high value user.\" How much money do you expect to have earned from \"high value users?\" How about \"low value users?\""
   ]
  },
  {
   "cell_type": "code",
   "execution_count": 92,
   "metadata": {},
   "outputs": [
    {
     "name": "stdout",
     "output_type": "stream",
     "text": [
      "Money expect to earn from high value users is $144,620\n",
      "Money expect to earn from low value users is $358,749\n"
     ]
    }
   ],
   "source": [
    "#set our total purchase amout to be 0\n",
    "amount = 0\n",
    "\n",
    "# check value from 0 to 4\n",
    "\n",
    "\n",
    "        # How many users purchase y loot boxes?\n",
    "            \n",
    "\n",
    "        # How much money would we make from those people? (dollars amount * number of individuals)\n",
    "            \n",
    "\n",
    "        # add in the above quantity to amount \n",
    "\n",
    "\n",
    "# how much we expected to make from people buying 4 or fewer loot boxes (low value users)\n",
    "\n",
    "# how much we expected to make from people buying at least 5 boxes  (high value users)\n"
   ]
  },
  {
   "cell_type": "code",
   "execution_count": 94,
   "metadata": {},
   "outputs": [
    {
     "name": "stdout",
     "output_type": "stream",
     "text": [
      "Money expect to earn from high value users is $144,503\n",
      "Money expect to earn from low value users is $358,080\n"
     ]
    }
   ],
   "source": [
    "import numpy as np\n",
    "\n",
    "roundup = 186000\n",
    "outcomes = np.random.poisson(avg_purchase,int(roundup)) # Use poisson, when events occur independently and an event occurring in an interval.\n",
    "high_value_users = [item for item in outcomes if item>=5] # Users who purchase >=5 items\n",
    "total_high_value_users =sum(high_value_users) # Get expected money earned from high value users\n",
    "\n",
    "low_value_users = sum(outcomes) - total_high_value_users \n",
    "total_low_value_users = low_value_users * 1\n",
    "\n",
    "print(f'Money expect to earn from high value users is ${total_high_value_users:,}')\n",
    "print(f'Money expect to earn from low value users is ${total_low_value_users:,}')"
   ]
  },
  {
   "cell_type": "markdown",
   "metadata": {},
   "source": [
    "#### 4d. Suppose that you want to summarize how many people purchased how many loot boxes last month for your boss. Since your boss isn't math-y, what are 2-4 summary numbers you might use to summarize this for your boss? (Your answers will vary here - use your judgment!)"
   ]
  },
  {
   "cell_type": "code",
   "execution_count": null,
   "metadata": {},
   "outputs": [],
   "source": [
    "- Expected revenue / Expected number of each user type\n",
    "- Ratios of low to high value users \n",
    "- Total revenue \n"
   ]
  },
  {
   "cell_type": "markdown",
   "metadata": {},
   "source": [
    "#How many people buy last month\n",
    "\n",
    "\n",
    "#How many boxes buy last month\n",
    "total_box = low_value_users + high_value_users\n",
    "\n",
    "\n",
    "total_user = 186,000\n",
    "high_num_box = 143,733   *user buy >=5\n",
    "low_num_box = 358,031    *user buy <5"
   ]
  },
  {
   "cell_type": "markdown",
   "metadata": {},
   "source": [
    "#### 5. Your boss asks \"How many loot boxes does it take before someone gets their first elixir?\" Using `np.random.choice`, simulate how many loot boxes it takes somone to get their first elixir. \n",
    "- Start an empty list.\n",
    "- Use control flow to have someone open loot boxes repeatedly.\n",
    "- Once they open a loot box containing an elixir, record the number of loot boxes it took in the empty list.\n",
    "- Repeat this process 100,000 times. \n",
    "\n",
    "This simulates how long it takes for someone to open a loot box containing elixir. Share the 5th, 25th, 50th, 75th, and 95th percentiles.\n",
    "\n",
    "> You may find [this documentation](https://docs.scipy.org/doc/numpy/reference/generated/numpy.random.choice.html)  and [this documentation](https://docs.scipy.org/doc/numpy/reference/generated/numpy.percentile.html) helpful."
   ]
  },
  {
   "cell_type": "code",
   "execution_count": null,
   "metadata": {},
   "outputs": [],
   "source": []
  },
  {
   "cell_type": "markdown",
   "metadata": {},
   "source": [
    "**NOTE**: When your Jupyter notebook is open, double-click on this Markdown cell! You can delete this text and put your answer to the previous problem in here."
   ]
  },
  {
   "cell_type": "markdown",
   "metadata": {},
   "source": [
    "### Version 2\n",
    "\n",
    "After a substantial update to the game, suppose every loot box can be opened to reveal *one of four different* items:\n",
    "- magical elixir (occurs 1% of the time, most valuable)\n",
    "- golden pendant (occurs 9% of the time, valuable)\n",
    "- steel armor (occurs 30% of the time, semi-valuable)\n",
    "- bronze coin (occurs 60% of the time, least valuable)"
   ]
  },
  {
   "cell_type": "markdown",
   "metadata": {},
   "source": [
    "#### 6. Suppose you want repeat problem 5 above, but do that for the version 2 loot boxes so you can track how many loot boxes are needed to get each item? (e.g. You'd like to be able to say that on average it takes 10 trials to get a golden pendant, 3 trials to get steel armor, and so on.) What Python datatype is the best way to store this data? Why?"
   ]
  },
  {
   "cell_type": "markdown",
   "metadata": {},
   "source": [
    "**we will use dictionary due to it able to contain Key and Value**\n",
    "- key will be magical elixir, golden\n",
    "- value will be simulated list of how many turns to get the first prize of each Key\n",
    "- or value can be the probability of each prize"
   ]
  },
  {
   "cell_type": "markdown",
   "metadata": {},
   "source": [
    "#### 7. Suppose you and your boss want to measure whether \"Version 2\" is better than \"Version 1.\" What metrics do you think are important to measure? (Your answers will vary here - use your judgment!)"
   ]
  },
  {
   "cell_type": "markdown",
   "metadata": {},
   "source": [
    "- Revenue change %\n",
    "- increased number of users\n",
    "- increased in high value users"
   ]
  }
 ],
 "metadata": {
  "kernelspec": {
   "display_name": "Python 3 (ipykernel)",
   "language": "python",
   "name": "python3"
  },
  "language_info": {
   "codemirror_mode": {
    "name": "ipython",
    "version": 3
   },
   "file_extension": ".py",
   "mimetype": "text/x-python",
   "name": "python",
   "nbconvert_exporter": "python",
   "pygments_lexer": "ipython3",
   "version": "3.12.4"
  }
 },
 "nbformat": 4,
 "nbformat_minor": 4
}
